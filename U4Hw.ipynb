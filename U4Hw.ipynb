{
 "cells": [
  {
   "cell_type": "markdown",
   "metadata": {},
   "source": [
    "# Popcorn Hack 1"
   ]
  },
  {
   "cell_type": "code",
   "execution_count": 2,
   "metadata": {},
   "outputs": [
    {
     "name": "stdout",
     "output_type": "stream",
     "text": [
      "0\n",
      "1\n",
      "2\n",
      "3\n",
      "4\n"
     ]
    }
   ],
   "source": [
    "int i = 0;\n",
    "while (i < 5) {\n",
    "    System.out.println(i);\n",
    "    i++;\n",
    "}"
   ]
  },
  {
   "cell_type": "markdown",
   "metadata": {},
   "source": [
    "# Popcorn Hack 2\n",
    "\n",
    "Create a program that iterates through a list of numbers (int_list = {0, 4, 51, 83, 92, 10, 123, 145}) using both a for loop and a for each loop, then split the numbers in the list into even/odd lists, and output them."
   ]
  },
  {
   "cell_type": "code",
   "execution_count": 6,
   "metadata": {},
   "outputs": [
    {
     "name": "stdout",
     "output_type": "stream",
     "text": [
      "Even numbers: [0, 4, 92, 10, 0, 4, 92, 10]\n",
      "Odd numbers: [51, 83, 123, 145, 51, 83, 123, 145]\n"
     ]
    }
   ],
   "source": [
    "import java.util.ArrayList;\n",
    "import java.util.List;\n",
    "int[] int_list = {0, 4, 51, 83, 92, 10, 123, 145};\n",
    "\n",
    "List<Integer> evenNumbers = new ArrayList<>();\n",
    "List<Integer> oddNumbers = new ArrayList<>();\n",
    "\n",
    "for (int i = 0; i < int_list.length; i++) {\n",
    "    if (int_list[i] % 2 == 0) {\n",
    "        evenNumbers.add(int_list[i]);\n",
    "    } else {\n",
    "        oddNumbers.add(int_list[i]);\n",
    "    }\n",
    "}\n",
    "\n",
    "for (int num : int_list) {\n",
    "    if (num % 2 == 0) {\n",
    "        evenNumbers.add(num);\n",
    "    } else {\n",
    "        oddNumbers.add(num);\n",
    "    }\n",
    "}\n",
    "\n",
    "System.out.println(\"Even numbers: \" + evenNumbers);\n",
    "System.out.println(\"Odd numbers: \" + oddNumbers);"
   ]
  },
  {
   "cell_type": "markdown",
   "metadata": {},
   "source": [
    "# Popcorn Hack 3\n",
    "Create a program that scrables any word that you put in, by reversing the first and last letters, then reversing the center letters. (example: sold becomes dlos, computer becomes retupmoc)"
   ]
  },
  {
   "cell_type": "code",
   "execution_count": 9,
   "metadata": {},
   "outputs": [
    {
     "name": "stdout",
     "output_type": "stream",
     "text": [
      "Enter a word to scramble: Scrambled word: nrocpop\n"
     ]
    }
   ],
   "source": [
    "import java.util.Scanner;\n",
    "\n",
    "public class WordScrambler {\n",
    "    public static void main(String[] args) {\n",
    "        Scanner scanner = new Scanner(System.in);\n",
    "        \n",
    "        System.out.print(\"Enter a word to scramble: \");\n",
    "        String input = scanner.nextLine();\n",
    "        \n",
    "        String scrambledWord = scrambleWord(input);\n",
    "        System.out.println(\"Scrambled word: \" + scrambledWord);\n",
    "        \n",
    "        scanner.close();\n",
    "    }\n",
    "\n",
    "    public static String scrambleWord(String word) {\n",
    "        if (word.length() < 2) {\n",
    "            return word;\n",
    "        }\n",
    "\n",
    "        char firstLetter = word.charAt(0);\n",
    "        char lastLetter = word.charAt(word.length() - 1);\n",
    "        String centerPart = word.substring(1, word.length() - 1);\n",
    "\n",
    "        String reversedCenter = new StringBuilder(centerPart).reverse().toString();\n",
    "\n",
    "\n",
    "        return lastLetter + reversedCenter + firstLetter;\n",
    "    }\n",
    "}\n",
    "\n",
    "WordScrambler.main(null);\n"
   ]
  },
  {
   "cell_type": "markdown",
   "metadata": {},
   "source": [
    "# Popcorn Hack 4"
   ]
  },
  {
   "cell_type": "code",
   "execution_count": 3,
   "metadata": {},
   "outputs": [
    {
     "name": "stdout",
     "output_type": "stream",
     "text": [
      "Enter the number of rows: "
     ]
    },
    {
     "ename": "CompilationException",
     "evalue": "",
     "output_type": "error",
     "traceback": [
      "\u001b[1m\u001b[30m|   \u001b[1m\u001b[30mfor (int i = rows; i>1; i-\u001b[0m\u001b[1m\u001b[30m\u001b[41m\u001b[0m\u001b[1m\u001b[30m) {\u001b[0m",
      "\u001b[1m\u001b[31millegal start of expression\u001b[0m",
      "",
      "\u001b[1m\u001b[30m|   \u001b[1m\u001b[30mfor (int i = rows; i>1; \u001b[0m\u001b[1m\u001b[30m\u001b[41mi-\u001b[0m\u001b[1m\u001b[30m) {\u001b[0m",
      "\u001b[1m\u001b[31mnot a statement\u001b[0m",
      ""
     ]
    }
   ],
   "source": [
    "import java.util.Scanner;\n",
    "Scanner scanner = new Scanner(System.in);\n",
    "System.out.print(\"Enter the number of rows: \");\n",
    "int rows = scanner.nextInt();\n",
    "for (int i = rows; i>1; i-) {\n",
    "    // Print numbers from 1 to i\n",
    "    for (int j = 1; j <= i; j++) {\n",
    "        System.out.print(j + \" \");\n",
    "    }\n",
    "            // Move to next line after each row\n",
    "    System.out.println();\n",
    "    }\n",
    "        \n",
    "scanner.close();"
   ]
  },
  {
   "cell_type": "markdown",
   "metadata": {},
   "source": [
    "## Loops homework hack\n",
    "### Easy Hack\n",
    "- use a while loop to find the numbers from 1-50 that are divisible by 3 or 5, then store them into a list (make sure to print it out at the end)\n",
    "- use a for loop to do the same thing detailed above"
   ]
  },
  {
   "cell_type": "code",
   "execution_count": null,
   "metadata": {},
   "outputs": [],
   "source": []
  },
  {
   "cell_type": "markdown",
   "metadata": {},
   "source": []
  }
 ],
 "metadata": {
  "kernelspec": {
   "display_name": "Java",
   "language": "java",
   "name": "java"
  },
  "language_info": {
   "codemirror_mode": "java",
   "file_extension": ".jshell",
   "mimetype": "text/x-java-source",
   "name": "java",
   "pygments_lexer": "java",
   "version": "11.0.24+8-post-Ubuntu-1ubuntu322.04"
  }
 },
 "nbformat": 4,
 "nbformat_minor": 2
}
