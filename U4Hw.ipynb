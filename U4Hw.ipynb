{
 "cells": [
  {
   "cell_type": "markdown",
   "metadata": {},
   "source": [
    "# Popcorn Hack 1"
   ]
  },
  {
   "cell_type": "code",
   "execution_count": 2,
   "metadata": {
    "vscode": {
     "languageId": "java"
    }
   },
   "outputs": [
    {
     "name": "stdout",
     "output_type": "stream",
     "text": [
      "0\n",
      "1\n",
      "2\n",
      "3\n",
      "4\n"
     ]
    }
   ],
   "source": [
    "int i = 0;\n",
    "while (i < 5) {\n",
    "    System.out.println(i);\n",
    "    i++;\n",
    "}"
   ]
  },
  {
   "cell_type": "markdown",
   "metadata": {},
   "source": [
    "# Popcorn Hack 2\n",
    "\n",
    "Create a program that iterates through a list of numbers (int_list = {0, 4, 51, 83, 92, 10, 123, 145}) using both a for loop and a for each loop, then split the numbers in the list into even/odd lists, and output them."
   ]
  },
  {
   "cell_type": "code",
   "execution_count": 6,
   "metadata": {
    "vscode": {
     "languageId": "java"
    }
   },
   "outputs": [
    {
     "name": "stdout",
     "output_type": "stream",
     "text": [
      "Even numbers: [0, 4, 92, 10, 0, 4, 92, 10]\n",
      "Odd numbers: [51, 83, 123, 145, 51, 83, 123, 145]\n"
     ]
    }
   ],
   "source": [
    "import java.util.ArrayList;\n",
    "import java.util.List;\n",
    "int[] int_list = {0, 4, 51, 83, 92, 10, 123, 145};\n",
    "\n",
    "List<Integer> evenNumbers = new ArrayList<>();\n",
    "List<Integer> oddNumbers = new ArrayList<>();\n",
    "\n",
    "for (int i = 0; i < int_list.length; i++) {\n",
    "    if (int_list[i] % 2 == 0) {\n",
    "        evenNumbers.add(int_list[i]);\n",
    "    } else {\n",
    "        oddNumbers.add(int_list[i]);\n",
    "    }\n",
    "}\n",
    "\n",
    "for (int num : int_list) {\n",
    "    if (num % 2 == 0) {\n",
    "        evenNumbers.add(num);\n",
    "    } else {\n",
    "        oddNumbers.add(num);\n",
    "    }\n",
    "}\n",
    "\n",
    "System.out.println(\"Even numbers: \" + evenNumbers);\n",
    "System.out.println(\"Odd numbers: \" + oddNumbers);"
   ]
  },
  {
   "cell_type": "markdown",
   "metadata": {},
   "source": [
    "# Popcorn Hack 3\n",
    "Create a program that scrables any word that you put in, by reversing the first and last letters, then reversing the center letters. (example: sold becomes dlos, computer becomes retupmoc)"
   ]
  },
  {
   "cell_type": "code",
   "execution_count": 9,
   "metadata": {
    "vscode": {
     "languageId": "java"
    }
   },
   "outputs": [
    {
     "name": "stdout",
     "output_type": "stream",
     "text": [
      "Enter a word to scramble: Scrambled word: nrocpop\n"
     ]
    }
   ],
   "source": [
    "import java.util.Scanner;\n",
    "\n",
    "public class WordScrambler {\n",
    "    public static void main(String[] args) {\n",
    "        Scanner scanner = new Scanner(System.in);\n",
    "        \n",
    "        System.out.print(\"Enter a word to scramble: \");\n",
    "        String input = scanner.nextLine();\n",
    "        \n",
    "        String scrambledWord = scrambleWord(input);\n",
    "        System.out.println(\"Scrambled word: \" + scrambledWord);\n",
    "        \n",
    "        scanner.close();\n",
    "    }\n",
    "\n",
    "    public static String scrambleWord(String word) {\n",
    "        if (word.length() < 2) {\n",
    "            return word;\n",
    "        }\n",
    "\n",
    "        char firstLetter = word.charAt(0);\n",
    "        char lastLetter = word.charAt(word.length() - 1);\n",
    "        String centerPart = word.substring(1, word.length() - 1);\n",
    "\n",
    "        String reversedCenter = new StringBuilder(centerPart).reverse().toString();\n",
    "\n",
    "\n",
    "        return lastLetter + reversedCenter + firstLetter;\n",
    "    }\n",
    "}\n",
    "\n",
    "WordScrambler.main(null);\n"
   ]
  },
  {
   "cell_type": "markdown",
   "metadata": {},
   "source": [
    "# Popcorn Hack 4\n",
    "What is wrong with code?\n",
    "Answer: increment should be i-- instead of i-"
   ]
  },
  {
   "cell_type": "code",
   "execution_count": 1,
   "metadata": {
    "vscode": {
     "languageId": "java"
    }
   },
   "outputs": [
    {
     "name": "stdout",
     "output_type": "stream",
     "text": [
      "Enter the number of rows: 1 2 3 \n",
      "1 2 \n"
     ]
    }
   ],
   "source": [
    "import java.util.Scanner;\n",
    "Scanner scanner = new Scanner(System.in);\n",
    "System.out.print(\"Enter the number of rows: \");\n",
    "int rows = scanner.nextInt();\n",
    "for (int i = rows; i>1; i--) {\n",
    "    // Print numbers from 1 to i\n",
    "    for (int j = 1; j <= i; j++) {\n",
    "        System.out.print(j + \" \");\n",
    "    }\n",
    "            // Move to next line after each row\n",
    "    System.out.println();\n",
    "    }\n",
    "        \n",
    "scanner.close();"
   ]
  },
  {
   "attachments": {
    "image.png": {
     "image/png": "[encoded data removed]"
    }
   },
   "cell_type": "markdown",
   "metadata": {},
   "source": [
    "# Popcorn Hack 5\n",
    "![image.png](attachment:image.png)"
   ]
  },
  {
   "cell_type": "markdown",
   "metadata": {},
   "source": [
    "Answer: "
   ]
  },
  {
   "cell_type": "markdown",
   "metadata": {},
   "source": [
    "Answer: B 20"
   ]
  },
  {
   "cell_type": "markdown",
   "metadata": {},
   "source": [
    "## Loops homework hack\n",
    "### Easy Hack\n",
    "- use a while loop to find the numbers from 1-50 that are divisible by 3 or 5, then store them into a list (make sure to print it out at the end)\n",
    "- use a for loop to do the same thing detailed above"
   ]
  },
  {
   "cell_type": "code",
   "execution_count": 3,
   "metadata": {
    "vscode": {
     "languageId": "java"
    }
   },
   "outputs": [
    {
     "name": "stdout",
     "output_type": "stream",
     "text": [
      "Numbers divisible by 3 or 5 (while loop): [3, 5, 6, 9, 10, 12, 15, 18, 20, 21, 24, 25, 27, 30, 33, 35, 36, 39, 40, 42, 45, 48, 50]\n",
      "Numbers divisible by 3 or 5 (for loop): [3, 5, 6, 9, 10, 12, 15, 18, 20, 21, 24, 25, 27, 30, 33, 35, 36, 39, 40, 42, 45, 48, 50]\n"
     ]
    }
   ],
   "source": [
    "import java.util.ArrayList;\n",
    "\n",
    "\n",
    "ArrayList<Integer> numbersDivisibleBy3Or5 = new ArrayList<>();\n",
    "int i = 1;\n",
    "\n",
    "while (i <= 50) {\n",
    "    if (i % 3 == 0 || i % 5 == 0) {\n",
    "        numbersDivisibleBy3Or5.add(i);\n",
    "    }\n",
    "    i++;\n",
    "}\n",
    "\n",
    "System.out.println(\"Numbers divisible by 3 or 5 (while loop): \" + numbersDivisibleBy3Or5);\n",
    "\n",
    "\n",
    "\n",
    "ArrayList<Integer> numbersDivisibleBy3Or5 = new ArrayList<>();\n",
    "\n",
    "for (int i = 1; i <= 50; i++) {\n",
    "    if (i % 3 == 0 || i % 5 == 0) {\n",
    "        numbersDivisibleBy3Or5.add(i);\n",
    "    }\n",
    "}\n",
    "\n",
    "System.out.println(\"Numbers divisible by 3 or 5 (for loop): \" + numbersDivisibleBy3Or5);\n",
    "\n",
    "\n"
   ]
  },
  {
   "cell_type": "markdown",
   "metadata": {},
   "source": [
    "### Harder Hack\n",
    "#### Palindromes are numbers that have the same value when reversed (ex: “123321” or “323”). Create a program that uses a while loop that outputs all palindromes in any given list. \n",
    "\n",
    "Sample Input: \n",
    "test_list = [5672, 235, 5537, 6032, 317, 8460, 1672, 8104, 7770, 4442, 913, 2508, 1116, 9969, 9091, 522, 8756, 9527, 7968, 1520, 4444, 515, 2882, 6556, 595]\n",
    "\n",
    "Sample Output:\n",
    "4444, 515, 2882, 6556, 595"
   ]
  },
  {
   "cell_type": "code",
   "execution_count": 8,
   "metadata": {
    "vscode": {
     "languageId": "java"
    }
   },
   "outputs": [
    {
     "name": "stdout",
     "output_type": "stream",
     "text": [
      "Palindromes: [4444, 515, 2882, 6556, 595]\n"
     ]
    }
   ],
   "source": [
    "import java.util.ArrayList;\n",
    "import java.util.List;\n",
    "\n",
    "public class PalindromeFinder {\n",
    "    public static void main(String[] args) {\n",
    "        List<Integer> testList = List.of(5672, 235, 5537, 6032, 317, 8460, 1672, 8104, \n",
    "                                          7770, 4442, 913, 2508, 1116, 9969, 9091, \n",
    "                                          522, 8756, 9527, 7968, 1520, 4444, 515, \n",
    "                                          2882, 6556, 595);\n",
    "\n",
    "        List<Integer> palindromes = new ArrayList<>();\n",
    "        int index = 0;\n",
    "\n",
    "        while (index < testList.size()) {\n",
    "            int num = testList.get(index);\n",
    "            if (isPalindrome(num)) {\n",
    "                palindromes.add(num);\n",
    "            }\n",
    "            index++;\n",
    "        }\n",
    "\n",
    "        System.out.println(\"Palindromes: \" + palindromes);\n",
    "    }\n",
    "\n",
    "    private static boolean isPalindrome(int num) {\n",
    "        int originalNum = num;\n",
    "        int reversedNum = 0;\n",
    "\n",
    "        while (num > 0) {\n",
    "            int digit = num % 10;\n",
    "            reversedNum = reversedNum * 10 + digit;\n",
    "            num /= 10;\n",
    "        }\n",
    "\n",
    "        return originalNum == reversedNum;\n",
    "    }\n",
    "}\n",
    "\n",
    "PalindromeFinder.main(null);\n"
   ]
  }
 ],
 "metadata": {
  "kernelspec": {
   "display_name": "Java",
   "language": "java",
   "name": "java"
  },
  "language_info": {
   "codemirror_mode": "java",
   "file_extension": ".jshell",
   "mimetype": "text/x-java-source",
   "name": "Java",
   "pygments_lexer": "java",
   "version": "11.0.24+8-post-Ubuntu-1ubuntu322.04"
  }
 },
 "nbformat": 4,
 "nbformat_minor": 2
}
